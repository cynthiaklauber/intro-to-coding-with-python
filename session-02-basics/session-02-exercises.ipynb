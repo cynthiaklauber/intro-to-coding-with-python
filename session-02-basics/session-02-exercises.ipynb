{
 "cells": [
  {
   "cell_type": "markdown",
   "metadata": {},
   "source": [
    "# Session 2"
   ]
  },
  {
   "cell_type": "markdown",
   "metadata": {},
   "source": [
    "## Basic CLI Commands\n",
    "\n",
    "You can run `bash` commands in a Jupyter Notebook by prefixing the cell with a \"!\""
   ]
  },
  {
   "cell_type": "markdown",
   "metadata": {},
   "source": [
    "- `pwd` - print the current (present) working directory\n",
    "- `ls` - list the contents of the current directory\n",
    "- `cd` - change directories by entering an exact path or a relative path\n",
    "- `mkdir` - create a directory\n",
    "- `mv` - move or rename a file or directory\n",
    "- `cp` - create a copy of a file or directory\n",
    "- `echo` - like print but for Bash\n",
    "- `cat` - print contents of a file to the terminal\n",
    "- `open` - open a file\n",
    "- `code` - open VSCode, pass an exact path or relative path to open VSCode in that workspace\n",
    "- `man` - read the documentation for other commands"
   ]
  },
  {
   "cell_type": "markdown",
   "metadata": {},
   "source": [
    "Where are we now?"
   ]
  },
  {
   "cell_type": "code",
   "execution_count": 2,
   "metadata": {},
   "outputs": [
    {
     "name": "stdout",
     "output_type": "stream",
     "text": [
      "/Users/bcope/git/intro-to-coding-with-python/session-02-basics\r\n"
     ]
    }
   ],
   "source": [
    "! pwd"
   ]
  },
  {
   "cell_type": "markdown",
   "metadata": {},
   "source": [
    "Try showing the contents of the directory"
   ]
  },
  {
   "cell_type": "code",
   "execution_count": 4,
   "metadata": {},
   "outputs": [
    {
     "name": "stdout",
     "output_type": "stream",
     "text": [
      "README.md                  session-02-exercises.ipynb\r\n",
      "TODO.md\r\n"
     ]
    }
   ],
   "source": [
    "! ls"
   ]
  },
  {
   "cell_type": "markdown",
   "metadata": {},
   "source": [
    "Try showing the contents of a different directory by passing an _absolute path_ as a _parameter_ to the ls command"
   ]
  },
  {
   "cell_type": "code",
   "execution_count": 12,
   "metadata": {},
   "outputs": [
    {
     "name": "stdout",
     "output_type": "stream",
     "text": [
      "\u001b[34mApplications\u001b[m\u001b[m     \u001b[34mLibrary\u001b[m\u001b[m          \u001b[34mPictures\u001b[m\u001b[m         \u001b[34mgit\u001b[m\u001b[m\r\n",
      "\u001b[34mDesktop\u001b[m\u001b[m          \u001b[34mMEGAsync\u001b[m\u001b[m         \u001b[34mPublic\u001b[m\u001b[m           \u001b[34mpersonal\u001b[m\u001b[m\r\n",
      "\u001b[34mDocuments\u001b[m\u001b[m        \u001b[34mMovies\u001b[m\u001b[m           \u001b[34mcredentials\u001b[m\u001b[m      test-1-full.txt\r\n",
      "\u001b[34mDownloads\u001b[m\u001b[m        \u001b[34mMusic\u001b[m\u001b[m            \u001b[34mdnd-audio\u001b[m\u001b[m        test-2-empty.txt\r\n"
     ]
    }
   ],
   "source": [
    "! ls ~/"
   ]
  },
  {
   "cell_type": "markdown",
   "metadata": {},
   "source": [
    "Many commands have _flags_ you can pass to alter the behavior of the command. The `-a` flag will make the `ls` command show hidden files and directories."
   ]
  },
  {
   "cell_type": "code",
   "execution_count": 19,
   "metadata": {},
   "outputs": [
    {
     "name": "stdout",
     "output_type": "stream",
     "text": [
      "\u001b[34m.\u001b[m\u001b[m                               .keep\r\n",
      "\u001b[34m..\u001b[m\u001b[m                              README.md\r\n",
      ".hidden-file-for-you-to-find.md TODO.md\r\n",
      "\u001b[34m.ipynb_checkpoints\u001b[m\u001b[m              session-02-exercises.ipynb\r\n"
     ]
    }
   ],
   "source": [
    "! ls -a"
   ]
  },
  {
   "cell_type": "markdown",
   "metadata": {},
   "source": [
    "We can check to see the other options we can use"
   ]
  },
  {
   "cell_type": "code",
   "execution_count": 20,
   "metadata": {},
   "outputs": [
    {
     "name": "stdout",
     "output_type": "stream",
     "text": [
      "\r\n",
      "MV(1)                     BSD General Commands Manual                    MV(1)\r\n",
      "\r\n",
      "N\bNA\bAM\bME\bE\r\n",
      "     m\bmv\bv -- move files\r\n",
      "\r\n",
      "S\bSY\bYN\bNO\bOP\bPS\bSI\bIS\bS\r\n",
      "     m\bmv\bv [-\b-f\bf | -\b-i\bi | -\b-n\bn] [-\b-v\bv] _\bs_\bo_\bu_\br_\bc_\be _\bt_\ba_\br_\bg_\be_\bt\r\n",
      "     m\bmv\bv [-\b-f\bf | -\b-i\bi | -\b-n\bn] [-\b-v\bv] _\bs_\bo_\bu_\br_\bc_\be _\b._\b._\b. _\bd_\bi_\br_\be_\bc_\bt_\bo_\br_\by\r\n",
      "\r\n",
      "D\bDE\bES\bSC\bCR\bRI\bIP\bPT\bTI\bIO\bON\bN\r\n",
      "     In its first form, the m\bmv\bv utility renames the file named by the _\bs_\bo_\bu_\br_\bc_\be\r\n",
      "     operand to the destination path named by the _\bt_\ba_\br_\bg_\be_\bt operand.  This form\r\n",
      "     is assumed when the last operand does not name an already existing direc-\r\n",
      "     tory.\r\n",
      "\r\n",
      "     In its second form, m\bmv\bv moves each file named by a _\bs_\bo_\bu_\br_\bc_\be operand to a\r\n",
      "     destination file in the existing directory named by the _\bd_\bi_\br_\be_\bc_\bt_\bo_\br_\by oper-\r\n",
      "     and.  The destination path for each operand is the pathname produced by\r\n",
      "     the concatenation of the last operand, a slash, and the final pathname\r\n",
      "     component of the named file.\r\n",
      "\r\n",
      "     The following options are available:\r\n",
      "\r\n",
      "     -\b-f\bf      Do not prompt for confirmation before overwriting the destination\r\n",
      "             path.  (The -\b-f\bf option overrides any previous -\b-i\bi or -\b-n\bn options.)\r\n",
      "\r\n",
      "     -\b-i\bi      Cause m\bmv\bv to write a prompt to standard error before moving a file\r\n",
      "             that would overwrite an existing file.  If the response from the\r\n",
      "             standard input begins with the character `y' or `Y', the move is\r\n",
      "             attempted.  (The -\b-i\bi option overrides any previous -\b-f\bf or -\b-n\bn\r\n",
      "             options.)\r\n",
      "\r\n",
      "     -\b-n\bn      Do not overwrite an existing file.  (The -\b-n\bn option overrides any\r\n",
      "             previous -\b-f\bf or -\b-i\bi options.)\r\n",
      "\r\n",
      "     -\b-v\bv      Cause m\bmv\bv to be verbose, showing files after they are moved.\r\n",
      "\r\n",
      "     It is an error for either the _\bs_\bo_\bu_\br_\bc_\be operand or the destination path to\r\n",
      "     specify a directory unless both do.\r\n",
      "\r\n",
      "     If the destination path does not have a mode which permits writing, m\bmv\bv\r\n",
      "     prompts the user for confirmation as specified for the -\b-i\bi option.\r\n",
      "\r\n",
      "     As the rename(2) call does not work across file systems, m\bmv\bv uses cp(1)\r\n",
      "     and rm(1) to accomplish the move.  The effect is equivalent to:\r\n",
      "\r\n",
      "           rm -f destination_path && \\\r\n",
      "           cp -pRP source_file destination && \\\r\n",
      "           rm -rf source_file\r\n",
      "\r\n",
      "D\bDI\bIA\bAG\bGN\bNO\bOS\bST\bTI\bIC\bCS\bS\r\n",
      "     The m\bmv\bv utility exits 0 on success, and >0 if an error occurs.\r\n",
      "\r\n",
      "     The command \"mv dir/afile dir\" will abort with an error message.\r\n",
      "\r\n",
      "L\bLE\bEG\bGA\bAC\bCY\bY D\bDI\bIA\bAG\bGN\bNO\bOS\bST\bTI\bIC\bCS\bS\r\n",
      "     In legacy mode, the command \"mv dir/afile dir\" will fail silently,\r\n",
      "     returning an exit code of 0.\r\n",
      "\r\n",
      "     For more information about legacy mode, see compat(5).\r\n",
      "\r\n",
      "S\bSE\bEE\bE A\bAL\bLS\bSO\bO\r\n",
      "     cp(1), rm(1), symlink(7)\r\n",
      "\r\n",
      "C\bCO\bOM\bMP\bPA\bAT\bTI\bIB\bBI\bIL\bLI\bIT\bTY\bY\r\n",
      "     The -\b-n\bn and -\b-v\bv options are non-standard and their use in scripts is not\r\n",
      "     recommended.\r\n",
      "\r\n",
      "     The m\bmv\bv utility now supports HFS+ Finder and Extended Attributes and\r\n",
      "     resource forks.  The m\bmv\bv utility will no longer strip resource forks off\r\n",
      "     of HFS files.  For an alternative method, refer to cp(1).\r\n",
      "\r\n",
      "S\bST\bTA\bAN\bND\bDA\bAR\bRD\bDS\bS\r\n",
      "     The m\bmv\bv utility is expected to be IEEE Std 1003.2 (``POSIX.2'') compati-\r\n",
      "     ble.\r\n",
      "\r\n",
      "H\bHI\bIS\bST\bTO\bOR\bRY\bY\r\n",
      "     A m\bmv\bv command appeared in Version 1 AT&T UNIX.\r\n",
      "\r\n",
      "BSD                              July 9, 2002                              BSD\r\n"
     ]
    }
   ],
   "source": [
    "! man mv"
   ]
  },
  {
   "cell_type": "code",
   "execution_count": 21,
   "metadata": {},
   "outputs": [
    {
     "name": "stdout",
     "output_type": "stream",
     "text": [
      "git version 2.20.1 (Apple Git-117)\r\n"
     ]
    }
   ],
   "source": [
    "! git --version"
   ]
  },
  {
   "cell_type": "markdown",
   "metadata": {},
   "source": [
    "## Basic Python"
   ]
  },
  {
   "cell_type": "markdown",
   "metadata": {},
   "source": [
    "### Data Types"
   ]
  },
  {
   "cell_type": "markdown",
   "metadata": {},
   "source": [
    "- `int` integers, pretty simple\n",
    "- `float` numbers with decimal places\n",
    "- `string` characters\n",
    "- `None` a data type that represents the absence of data\n",
    "- `list` a container to hold other data\n",
    "- `dict` a container to hold other data, but with labels for that data\n",
    "- `bool` True or False"
   ]
  },
  {
   "cell_type": "markdown",
   "metadata": {},
   "source": [
    "### Variables\n",
    "\n",
    "Store values in variables and then use them later"
   ]
  },
  {
   "cell_type": "code",
   "execution_count": 32,
   "metadata": {},
   "outputs": [],
   "source": [
    "an_integer = 1\n",
    "a_float = 1.234\n",
    "a_string = 'some characters strung together'\n",
    "contains_none = None\n",
    "a_list = [an_integer, a_float, a_string]\n",
    "a_second_list = [1, 2, 3, 4, 5, 6, 7, 8, 9, 10]\n",
    "a_dictionary = {'this is a key': 'this is a value'}\n",
    "a_variable_assigned_another_variable = an_integer"
   ]
  },
  {
   "cell_type": "code",
   "execution_count": 31,
   "metadata": {},
   "outputs": [
    {
     "name": "stdout",
     "output_type": "stream",
     "text": [
      "1\n"
     ]
    }
   ],
   "source": [
    "print(an_integer)"
   ]
  },
  {
   "cell_type": "code",
   "execution_count": 28,
   "metadata": {},
   "outputs": [
    {
     "name": "stdout",
     "output_type": "stream",
     "text": [
      "some characters strung together\n"
     ]
    }
   ],
   "source": [
    "print(a_string)"
   ]
  },
  {
   "cell_type": "code",
   "execution_count": 29,
   "metadata": {},
   "outputs": [
    {
     "name": "stdout",
     "output_type": "stream",
     "text": [
      "1\n"
     ]
    }
   ],
   "source": [
    "print(a_variable_assigned_another_variable)"
   ]
  },
  {
   "cell_type": "code",
   "execution_count": 30,
   "metadata": {},
   "outputs": [],
   "source": [
    "a_variable_assigned_another_variable = 2"
   ]
  },
  {
   "cell_type": "code",
   "execution_count": null,
   "metadata": {},
   "outputs": [],
   "source": []
  },
  {
   "cell_type": "markdown",
   "metadata": {},
   "source": [
    "- assign those variables different values"
   ]
  },
  {
   "cell_type": "markdown",
   "metadata": {},
   "source": [
    "### Builtin Functions"
   ]
  },
  {
   "cell_type": "markdown",
   "metadata": {},
   "source": [
    "The Python interpreter has a number of functions and types built into it that are always available. [See Documentation](https://docs.python.org/3/library/functions.html#built-in-funcs)."
   ]
  },
  {
   "cell_type": "markdown",
   "metadata": {},
   "source": [
    "- `type()` - return the data type of a variable, etc\n",
    "- `str()` - convert data into a string of characters\n",
    "- `int()` - convert data into an integer value if possible\n",
    "- `dir()` - print all the attributes of a complex data type"
   ]
  },
  {
   "cell_type": "code",
   "execution_count": 33,
   "metadata": {},
   "outputs": [
    {
     "data": {
      "text/plain": [
       "int"
      ]
     },
     "execution_count": 33,
     "metadata": {},
     "output_type": "execute_result"
    }
   ],
   "source": [
    "type(an_integer)"
   ]
  },
  {
   "cell_type": "code",
   "execution_count": 34,
   "metadata": {},
   "outputs": [
    {
     "data": {
      "text/plain": [
       "str"
      ]
     },
     "execution_count": 34,
     "metadata": {},
     "output_type": "execute_result"
    }
   ],
   "source": [
    "type(a_string)"
   ]
  },
  {
   "cell_type": "code",
   "execution_count": 35,
   "metadata": {},
   "outputs": [
    {
     "data": {
      "text/plain": [
       "list"
      ]
     },
     "execution_count": 35,
     "metadata": {},
     "output_type": "execute_result"
    }
   ],
   "source": [
    "type(a_list)"
   ]
  },
  {
   "cell_type": "code",
   "execution_count": 38,
   "metadata": {},
   "outputs": [
    {
     "data": {
      "text/plain": [
       "['__add__',\n",
       " '__class__',\n",
       " '__contains__',\n",
       " '__delattr__',\n",
       " '__dir__',\n",
       " '__doc__',\n",
       " '__eq__',\n",
       " '__format__',\n",
       " '__ge__',\n",
       " '__getattribute__',\n",
       " '__getitem__',\n",
       " '__getnewargs__',\n",
       " '__gt__',\n",
       " '__hash__',\n",
       " '__init__',\n",
       " '__init_subclass__',\n",
       " '__iter__',\n",
       " '__le__',\n",
       " '__len__',\n",
       " '__lt__',\n",
       " '__mod__',\n",
       " '__mul__',\n",
       " '__ne__',\n",
       " '__new__',\n",
       " '__reduce__',\n",
       " '__reduce_ex__',\n",
       " '__repr__',\n",
       " '__rmod__',\n",
       " '__rmul__',\n",
       " '__setattr__',\n",
       " '__sizeof__',\n",
       " '__str__',\n",
       " '__subclasshook__',\n",
       " 'capitalize',\n",
       " 'casefold',\n",
       " 'center',\n",
       " 'count',\n",
       " 'encode',\n",
       " 'endswith',\n",
       " 'expandtabs',\n",
       " 'find',\n",
       " 'format',\n",
       " 'format_map',\n",
       " 'index',\n",
       " 'isalnum',\n",
       " 'isalpha',\n",
       " 'isascii',\n",
       " 'isdecimal',\n",
       " 'isdigit',\n",
       " 'isidentifier',\n",
       " 'islower',\n",
       " 'isnumeric',\n",
       " 'isprintable',\n",
       " 'isspace',\n",
       " 'istitle',\n",
       " 'isupper',\n",
       " 'join',\n",
       " 'ljust',\n",
       " 'lower',\n",
       " 'lstrip',\n",
       " 'maketrans',\n",
       " 'partition',\n",
       " 'replace',\n",
       " 'rfind',\n",
       " 'rindex',\n",
       " 'rjust',\n",
       " 'rpartition',\n",
       " 'rsplit',\n",
       " 'rstrip',\n",
       " 'split',\n",
       " 'splitlines',\n",
       " 'startswith',\n",
       " 'strip',\n",
       " 'swapcase',\n",
       " 'title',\n",
       " 'translate',\n",
       " 'upper',\n",
       " 'zfill']"
      ]
     },
     "execution_count": 38,
     "metadata": {},
     "output_type": "execute_result"
    }
   ],
   "source": [
    "dir(a_string)"
   ]
  },
  {
   "cell_type": "code",
   "execution_count": 41,
   "metadata": {},
   "outputs": [
    {
     "name": "stdout",
     "output_type": "stream",
     "text": [
      "Help on built-in function center:\n",
      "\n",
      "center(width, fillchar=' ', /) method of builtins.str instance\n",
      "    Return a centered string of length width.\n",
      "    \n",
      "    Padding is done using the specified fill character (default is a space).\n",
      "\n"
     ]
    }
   ],
   "source": [
    "help(a_string.center)"
   ]
  },
  {
   "cell_type": "code",
   "execution_count": null,
   "metadata": {},
   "outputs": [],
   "source": [
    "dir(a_list)"
   ]
  },
  {
   "cell_type": "markdown",
   "metadata": {},
   "source": [
    "### Operators"
   ]
  },
  {
   "cell_type": "markdown",
   "metadata": {},
   "source": [
    "### Logical Conditions"
   ]
  },
  {
   "cell_type": "code",
   "execution_count": null,
   "metadata": {},
   "outputs": [],
   "source": [
    "if\n",
    "elif\n",
    "else"
   ]
  },
  {
   "cell_type": "markdown",
   "metadata": {},
   "source": [
    "### Functions"
   ]
  },
  {
   "cell_type": "code",
   "execution_count": null,
   "metadata": {},
   "outputs": [],
   "source": [
    "defintion\n",
    "input\n",
    "return value"
   ]
  },
  {
   "cell_type": "markdown",
   "metadata": {},
   "source": [
    "### Loops"
   ]
  },
  {
   "cell_type": "code",
   "execution_count": null,
   "metadata": {},
   "outputs": [],
   "source": []
  }
 ],
 "metadata": {
  "kernelspec": {
   "display_name": "Python 3",
   "language": "python",
   "name": "python3"
  },
  "language_info": {
   "codemirror_mode": {
    "name": "ipython",
    "version": 3
   },
   "file_extension": ".py",
   "mimetype": "text/x-python",
   "name": "python",
   "nbconvert_exporter": "python",
   "pygments_lexer": "ipython3",
   "version": "3.7.4"
  }
 },
 "nbformat": 4,
 "nbformat_minor": 2
}
